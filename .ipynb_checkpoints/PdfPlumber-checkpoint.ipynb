{
 "cells": [
  {
   "cell_type": "code",
   "execution_count": 1,
   "metadata": {},
   "outputs": [],
   "source": [
    "import re\n",
    "import pdfplumber\n",
    "import pandas as pd\n",
    "from collections import namedtuple"
   ]
  },
  {
   "cell_type": "code",
   "execution_count": 2,
   "metadata": {},
   "outputs": [],
   "source": [
    "Line = (namedtuple('Line', 'Main_Title Undertitle Key Values')) #Undertitle"
   ]
  },
  {
   "cell_type": "code",
   "execution_count": 3,
   "metadata": {},
   "outputs": [],
   "source": [
    "main = re.compile(r'\\*  (\\d) ([A-z].*)')\n",
    "under = re.compile(r'· [A-Z].*')#· Product Identifier\n",
    "key_value = re.compile(r'· (.*):[\\n ](.*)')"
   ]
  },
  {
   "cell_type": "code",
   "execution_count": 8,
   "metadata": {},
   "outputs": [
    {
     "name": "stdout",
     "output_type": "stream",
     "text": [
      "Revision date: 10/11/2017 Revision: 2 Supersedes date: 5/23/2017\n",
      "SAFETY DATA SHEET\n",
      "Omnirad 184\n",
      "According to Appendix D, OSHA Hazard Communication Standard 29 CFR §1910.1200\n",
      "1. Identification\n",
      "Product identifier\n",
      "Product name Omnirad 184\n",
      "Chemical name Hydroxycyclohexyl phenyl ketone\n",
      "CAS number 947-19-3\n",
      "Recommended use of the chemical and restrictions on use\n",
      "Application Photoinitiator.\n",
      "Uses advised against No specific uses advised against are identified.\n",
      "Details of the supplier of the safety data sheet\n",
      "Supplier www.igmresins.com\n",
      "IGM Resins USA Inc.\n",
      "3300 Westinghouse Blvd\n",
      "Charlotte, NC 28273, United States\n",
      "regulatory@igmresins.com\n",
      "T: +1 630-213-1616\n",
      "F: +1 704 450 6484\n",
      "Emergency telephone number\n",
      "Emergency telephone Italy +39 0362 512868\n",
      "EMEA +1 760 476 3961 Access code 333 293.\n",
      "US +1 760 476 3962 Access code 333 293.\n",
      "2. Hazard(s) identification\n",
      "Classification of the substance or mixture\n",
      "Physical hazards Not Classified\n",
      "Health hazards Not Classified\n",
      "Environmental hazards Not Classified\n",
      "Label elements\n",
      "Hazard statements NC Not Classified\n",
      "Precautionary statements P280 Wear protective gloves/ protective clothing/ eye protection/ face protection.\n",
      "P501 Dispose of contents/ container in accordance with national regulations.\n",
      "Other hazards\n",
      "Dust may form explosive mixture with air. This product does not contain any substances classified as PBT or vPvB.\n",
      "3. Composition/information on ingredients\n",
      "Substances\n",
      "Product name Omnirad 184\n",
      "1/11\n"
     ]
    }
   ],
   "source": [
    "with pdfplumber.open('Omnirad-184.pdf')as pdf1:\n",
    "    page = pdf1.pages[0]\n",
    "    text = page.extract_text()\n",
    "    print(text)"
   ]
  },
  {
   "cell_type": "code",
   "execution_count": 5,
   "metadata": {},
   "outputs": [],
   "source": [
    "key, value = key_value.search(text).group(1), key_value.search(text).group(2)"
   ]
  },
  {
   "cell_type": "code",
   "execution_count": 6,
   "metadata": {},
   "outputs": [
    {
     "data": {
      "text/plain": [
       "'No further relevant information available.'"
      ]
     },
     "execution_count": 6,
     "metadata": {},
     "output_type": "execute_result"
    }
   ],
   "source": [
    "value"
   ]
  },
  {
   "cell_type": "code",
   "execution_count": 9,
   "metadata": {},
   "outputs": [
    {
     "ename": "NameError",
     "evalue": "name 'mtitle' is not defined",
     "output_type": "error",
     "traceback": [
      "\u001b[1;31m---------------------------------------------------------------------------\u001b[0m",
      "\u001b[1;31mNameError\u001b[0m                                 Traceback (most recent call last)",
      "\u001b[1;32m<ipython-input-9-5a04470b996d>\u001b[0m in \u001b[0;36m<module>\u001b[1;34m\u001b[0m\n\u001b[0;32m     14\u001b[0m             \u001b[0mkey\u001b[0m\u001b[1;33m,\u001b[0m \u001b[0mvalue\u001b[0m \u001b[1;33m=\u001b[0m \u001b[0mkey_value\u001b[0m\u001b[1;33m.\u001b[0m\u001b[0msearch\u001b[0m\u001b[1;33m(\u001b[0m\u001b[0mline\u001b[0m\u001b[1;33m)\u001b[0m\u001b[1;33m.\u001b[0m\u001b[0mgroup\u001b[0m\u001b[1;33m(\u001b[0m\u001b[1;36m1\u001b[0m\u001b[1;33m)\u001b[0m\u001b[1;33m,\u001b[0m \u001b[0mkey_value\u001b[0m\u001b[1;33m.\u001b[0m\u001b[0msearch\u001b[0m\u001b[1;33m(\u001b[0m\u001b[0mline\u001b[0m\u001b[1;33m)\u001b[0m\u001b[1;33m.\u001b[0m\u001b[0mgroup\u001b[0m\u001b[1;33m(\u001b[0m\u001b[1;36m2\u001b[0m\u001b[1;33m)\u001b[0m\u001b[1;33m\u001b[0m\u001b[1;33m\u001b[0m\u001b[0m\n\u001b[0;32m     15\u001b[0m             \u001b[0mprint\u001b[0m\u001b[1;33m(\u001b[0m\u001b[1;34mf'key {key} : Value {value}'\u001b[0m\u001b[1;33m)\u001b[0m\u001b[1;33m\u001b[0m\u001b[1;33m\u001b[0m\u001b[0m\n\u001b[1;32m---> 16\u001b[1;33m         \u001b[0mlines\u001b[0m\u001b[1;33m.\u001b[0m\u001b[0mappend\u001b[0m\u001b[1;33m(\u001b[0m\u001b[0mLine\u001b[0m\u001b[1;33m(\u001b[0m\u001b[0mMain_Title\u001b[0m \u001b[1;33m=\u001b[0m \u001b[0mmtitle\u001b[0m\u001b[1;33m,\u001b[0m\u001b[0mUndertitle\u001b[0m\u001b[1;33m=\u001b[0m\u001b[0mUnder_title\u001b[0m\u001b[1;33m,\u001b[0m \u001b[0mKey\u001b[0m \u001b[1;33m=\u001b[0m \u001b[0mkey\u001b[0m\u001b[1;33m,\u001b[0m \u001b[0mValues\u001b[0m \u001b[1;33m=\u001b[0m \u001b[0mvalue\u001b[0m\u001b[1;33m)\u001b[0m\u001b[1;33m)\u001b[0m\u001b[1;33m\u001b[0m\u001b[1;33m\u001b[0m\u001b[0m\n\u001b[0m\u001b[0;32m     17\u001b[0m \u001b[1;33m\u001b[0m\u001b[0m\n",
      "\u001b[1;31mNameError\u001b[0m: name 'mtitle' is not defined"
     ]
    }
   ],
   "source": [
    "lines = []\n",
    "with pdfplumber.open('Omnirad-184.pdf') as pdf:\n",
    "    page = pdf.pages[0]\n",
    "    text = page.extract_text()\n",
    "    \n",
    "    for line in text.split('\\n'):\n",
    "        if main.search(line):\n",
    "            num, mtitle = main.search(line).group(1), main.search(line).group(2)\n",
    "            print(f'{num}, {mtitle}')\n",
    "        if under.search(line):\n",
    "            Under_title = line[under.search(line).start():under.search(line).end()]\n",
    "            print(Under_title)\n",
    "        if key_value.search(line):\n",
    "            key, value = key_value.search(line).group(1), key_value.search(line).group(2)\n",
    "            print(f'key {key} : Value {value}')\n",
    "        lines.append(Line(Main_Title = mtitle,Undertitle=Under_title, Key = key, Values = value))        \n",
    "             "
   ]
  },
  {
   "cell_type": "code",
   "execution_count": null,
   "metadata": {},
   "outputs": [],
   "source": [
    "lines"
   ]
  },
  {
   "cell_type": "code",
   "execution_count": null,
   "metadata": {},
   "outputs": [],
   "source": [
    "num"
   ]
  },
  {
   "cell_type": "code",
   "execution_count": null,
   "metadata": {},
   "outputs": [],
   "source": [
    "#Under_title"
   ]
  },
  {
   "cell_type": "code",
   "execution_count": null,
   "metadata": {},
   "outputs": [],
   "source": [
    "df = pd.DataFrame(lines)"
   ]
  },
  {
   "cell_type": "code",
   "execution_count": null,
   "metadata": {},
   "outputs": [],
   "source": [
    "df"
   ]
  },
  {
   "cell_type": "code",
   "execution_count": null,
   "metadata": {},
   "outputs": [],
   "source": []
  }
 ],
 "metadata": {
  "kernelspec": {
   "display_name": "Python 3",
   "language": "python",
   "name": "python3"
  },
  "language_info": {
   "codemirror_mode": {
    "name": "ipython",
    "version": 3
   },
   "file_extension": ".py",
   "mimetype": "text/x-python",
   "name": "python",
   "nbconvert_exporter": "python",
   "pygments_lexer": "ipython3",
   "version": "3.8.6"
  }
 },
 "nbformat": 4,
 "nbformat_minor": 4
}
