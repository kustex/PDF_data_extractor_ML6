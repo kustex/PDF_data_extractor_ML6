{
 "cells": [
  {
   "cell_type": "code",
   "execution_count": 156,
   "id": "suffering-arena",
   "metadata": {},
   "outputs": [],
   "source": [
    "import pandas as pd\n",
    "import numpy as np\n",
    "import textract as tx\n",
    "import re\n",
    "import json"
   ]
  },
  {
   "cell_type": "code",
   "execution_count": 157,
   "id": "personalized-buffer",
   "metadata": {},
   "outputs": [],
   "source": [
    "path_1 = '/Users/nicolasdemuynck/BeCode/Github/PDF_data_extractor_ML6/data/10N_Sodium_Hydroxide_NaOH_40_6_US_EN_sds (1).pdf'\n",
    "path_2 = '/Users/nicolasdemuynck/BeCode/Github/PDF_data_extractor_ML6/data/765-12-8_Sigma-Aldrich.pdf'\n",
    "path_3 = '/Users/nicolasdemuynck/BeCode/Github/PDF_data_extractor_ML6/data/23114.pdf'\n",
    "path_4 = '/Users/nicolasdemuynck/BeCode/Github/PDF_data_extractor_ML6/data/580076.pdf'\n",
    "path_5 = '/Users/nicolasdemuynck/BeCode/Github/PDF_data_extractor_ML6/data/586346.pdf'\n",
    "path_6 = '/Users/nicolasdemuynck/BeCode/Github/PDF_data_extractor_ML6/data/1799516.pdf'\n",
    "path_7 = '/Users/nicolasdemuynck/BeCode/Github/PDF_data_extractor_ML6/data/Carbowax Sentry PEG 400 NF - Dow - 2015-03-26.pdf'\n",
    "path_8 = '/Users/nicolasdemuynck/BeCode/Github/PDF_data_extractor_ML6/data/Dubei Steriling Alcohol Wipes SDS.pdf'\n",
    "path_9 = '/Users/nicolasdemuynck/BeCode/Github/PDF_data_extractor_ML6/data/gylcol-ether-dpm-sds.pdf'\n",
    "path_10 = '/Users/nicolasdemuynck/BeCode/Github/PDF_data_extractor_ML6/data/Hydrogen_Peroxide_35_7_US_EN_sds.pdf' \n",
    "path_11 = '/Users/nicolasdemuynck/BeCode/Github/PDF_data_extractor_ML6/data/LC15750.pdf'\n",
    "path_12 = '/Users/nicolasdemuynck/BeCode/Github/PDF_data_extractor_ML6/data/NN-dimethylformamide_3_US_EN_sds.pdf'\n",
    "path_13 = '/Users/nicolasdemuynck/BeCode/Github/PDF_data_extractor_ML6/data/Omnirad-184.pdf'\n",
    "path_14 = '/Users/nicolasdemuynck/BeCode/Github/PDF_data_extractor_ML6/data/PHTHALIC-ANHYDRIDE--ACS-5KG-pdf.pdf'\n",
    "path_15 = '/Users/nicolasdemuynck/BeCode/Github/PDF_data_extractor_ML6/data/quilon_h-eu_msds__1594909058.pdf'\n",
    "path_16 = '/Users/nicolasdemuynck/BeCode/Github/PDF_data_extractor_ML6/data/Savinyl-Orange-RLS.pdf'\n",
    "path_17 = '/Users/nicolasdemuynck/BeCode/Github/PDF_data_extractor_ML6/data/SDS - Horizon Blue Clarifier.pdf'\n",
    "path_18 = '/Users/nicolasdemuynck/BeCode/Github/PDF_data_extractor_ML6/data/Sledgehammer-Heat-Cure-Powder-SDS-US-20150522.pdf'\n",
    "path_19 = '/Users/nicolasdemuynck/BeCode/Github/PDF_data_extractor_ML6/data/Trifluoroacetic_Acid_TFA_7_US_EN_sds.pdf'\n",
    "path_20 = '/Users/nicolasdemuynck/BeCode/Github/PDF_data_extractor_ML6/data/巴斯夫紫外线吸收剂-tinuvin-1130-msds宝旭化工.pdf'"
   ]
  },
  {
   "cell_type": "code",
   "execution_count": 218,
   "id": "alleged-button",
   "metadata": {},
   "outputs": [],
   "source": [
    "text = tx.process(path_20)\n",
    "text = text.decode('utf-8')"
   ]
  },
  {
   "cell_type": "code",
   "execution_count": 219,
   "id": "conventional-norman",
   "metadata": {},
   "outputs": [],
   "source": [
    "splitted_text= text.replace('· ', '').replace('*  ', '').split('\\n')\n",
    "#splited_text"
   ]
  },
  {
   "cell_type": "code",
   "execution_count": 220,
   "id": "charming-break",
   "metadata": {},
   "outputs": [],
   "source": [
    "while '' in splitted_text:\n",
    "    splitted_text.remove('')\n",
    "\n",
    "index = np.arange(0,len(splitted_text))\n",
    "df_text = pd.DataFrame(splitted_text, index=[index], columns=['sentence'])\n",
    "#df_text"
   ]
  },
  {
   "cell_type": "code",
   "execution_count": 221,
   "id": "formal-mechanics",
   "metadata": {},
   "outputs": [],
   "source": [
    "def check_if_title(sentence):\n",
    "    sentence = str(sentence)\n",
    "    word_list = ['identification', 'information', 'measures', 'handling', 'properties', 'stability', 'considerations', 'exposure']\n",
    "    \n",
    "    starts_with_section = False\n",
    "    starts_with_number = False\n",
    "    if len(sentence.split()) > 1:\n",
    "        starts_with_section = sentence.split()[0] == 'section'\n",
    "        starts_with_number = sentence[0].isdigit() and not any(char.isdigit() for char in sentence[2:])\n",
    "    \n",
    "    \n",
    "    contains_title_word = [ele for ele in word_list if(ele in sentence)] \n",
    "    \n",
    "    if (starts_with_number or starts_with_section) and contains_title_word: \n",
    "        return 1\n",
    "    else: \n",
    "        return 0"
   ]
  },
  {
   "cell_type": "code",
   "execution_count": 222,
   "id": "binary-religious",
   "metadata": {},
   "outputs": [],
   "source": [
    "df_text[\"sentence\"] = df_text[\"sentence\"].str.lower()\n",
    "df_text['title'] = df_text['sentence'].map(lambda a: check_if_title(a))"
   ]
  },
  {
   "cell_type": "code",
   "execution_count": 223,
   "id": "express-coordinate",
   "metadata": {},
   "outputs": [
    {
     "data": {
      "text/html": [
       "<div>\n",
       "<style scoped>\n",
       "    .dataframe tbody tr th:only-of-type {\n",
       "        vertical-align: middle;\n",
       "    }\n",
       "\n",
       "    .dataframe tbody tr th {\n",
       "        vertical-align: top;\n",
       "    }\n",
       "\n",
       "    .dataframe thead th {\n",
       "        text-align: right;\n",
       "    }\n",
       "</style>\n",
       "<table border=\"1\" class=\"dataframe\">\n",
       "  <thead>\n",
       "    <tr style=\"text-align: right;\">\n",
       "      <th></th>\n",
       "      <th>sentence</th>\n",
       "      <th>title</th>\n",
       "    </tr>\n",
       "  </thead>\n",
       "  <tbody>\n",
       "    <tr>\n",
       "      <th>8</th>\n",
       "      <td>1. identification</td>\n",
       "      <td>1</td>\n",
       "    </tr>\n",
       "    <tr>\n",
       "      <th>27</th>\n",
       "      <td>2. hazards identification</td>\n",
       "      <td>1</td>\n",
       "    </tr>\n",
       "    <tr>\n",
       "      <th>88</th>\n",
       "      <td>3. composition/information on ingredients</td>\n",
       "      <td>1</td>\n",
       "    </tr>\n",
       "    <tr>\n",
       "      <th>125</th>\n",
       "      <td>4. first-aid measures</td>\n",
       "      <td>1</td>\n",
       "    </tr>\n",
       "    <tr>\n",
       "      <th>143</th>\n",
       "      <td>5. fire-fighting measures</td>\n",
       "      <td>1</td>\n",
       "    </tr>\n",
       "    <tr>\n",
       "      <th>166</th>\n",
       "      <td>6. accidental release measures</td>\n",
       "      <td>1</td>\n",
       "    </tr>\n",
       "    <tr>\n",
       "      <th>176</th>\n",
       "      <td>7. handling and storage</td>\n",
       "      <td>1</td>\n",
       "    </tr>\n",
       "    <tr>\n",
       "      <th>186</th>\n",
       "      <td>8. exposure controls/personal protection</td>\n",
       "      <td>1</td>\n",
       "    </tr>\n",
       "    <tr>\n",
       "      <th>223</th>\n",
       "      <td>9. physical and chemical properties</td>\n",
       "      <td>1</td>\n",
       "    </tr>\n",
       "    <tr>\n",
       "      <th>334</th>\n",
       "      <td>10. stability and reactivity</td>\n",
       "      <td>1</td>\n",
       "    </tr>\n",
       "    <tr>\n",
       "      <th>349</th>\n",
       "      <td>11. toxicological information</td>\n",
       "      <td>1</td>\n",
       "    </tr>\n",
       "    <tr>\n",
       "      <th>410</th>\n",
       "      <td>12. ecological information</td>\n",
       "      <td>1</td>\n",
       "    </tr>\n",
       "    <tr>\n",
       "      <th>498</th>\n",
       "      <td>13. disposal considerations</td>\n",
       "      <td>1</td>\n",
       "    </tr>\n",
       "    <tr>\n",
       "      <th>506</th>\n",
       "      <td>14. transport information</td>\n",
       "      <td>1</td>\n",
       "    </tr>\n",
       "    <tr>\n",
       "      <th>609</th>\n",
       "      <td>15. regulatory information</td>\n",
       "      <td>1</td>\n",
       "    </tr>\n",
       "    <tr>\n",
       "      <th>613</th>\n",
       "      <td>16. other information</td>\n",
       "      <td>1</td>\n",
       "    </tr>\n",
       "  </tbody>\n",
       "</table>\n",
       "</div>"
      ],
      "text/plain": [
       "                                      sentence  title\n",
       "8                            1. identification      1\n",
       "27                   2. hazards identification      1\n",
       "88   3. composition/information on ingredients      1\n",
       "125                      4. first-aid measures      1\n",
       "143                  5. fire-fighting measures      1\n",
       "166             6. accidental release measures      1\n",
       "176                    7. handling and storage      1\n",
       "186   8. exposure controls/personal protection      1\n",
       "223        9. physical and chemical properties      1\n",
       "334               10. stability and reactivity      1\n",
       "349              11. toxicological information      1\n",
       "410                 12. ecological information      1\n",
       "498                13. disposal considerations      1\n",
       "506                  14. transport information      1\n",
       "609                 15. regulatory information      1\n",
       "613                      16. other information      1"
      ]
     },
     "execution_count": 223,
     "metadata": {},
     "output_type": "execute_result"
    }
   ],
   "source": [
    "df_titles = df_text[df_text.title == 1]\n",
    "df_titles"
   ]
  },
  {
   "cell_type": "code",
   "execution_count": 224,
   "id": "macro-deviation",
   "metadata": {},
   "outputs": [],
   "source": [
    "def dict_titles_with_values(data):\n",
    "    lst = {}\n",
    "    current_title = ''\n",
    "    for i,j in zip(data['title'], data['sentence']):\n",
    "        if i == 1:\n",
    "            current_title = j\n",
    "            lst[j] = []\n",
    "        else:\n",
    "            if current_title != '':\n",
    "                lst[current_title].append(j)\n",
    "    return lst"
   ]
  },
  {
   "cell_type": "code",
   "execution_count": 225,
   "id": "controlling-format",
   "metadata": {},
   "outputs": [],
   "source": [
    "dic_1 = dict_titles_with_values(df_text)\n",
    "#dic_1"
   ]
  },
  {
   "cell_type": "code",
   "execution_count": 226,
   "id": "respected-witness",
   "metadata": {},
   "outputs": [],
   "source": [
    "def listToString(s):\n",
    "    str1 = \" \" \n",
    "    # return string   \n",
    "    return (str1.join(s))"
   ]
  },
  {
   "cell_type": "code",
   "execution_count": 227,
   "id": "differential-inflation",
   "metadata": {},
   "outputs": [],
   "source": [
    "dic_2 = {}\n",
    "for k, v in dic_1.items():\n",
    "    dic_2[k] = listToString(v)\n",
    "#dic_2"
   ]
  },
  {
   "cell_type": "code",
   "execution_count": 228,
   "id": "fifth-tuner",
   "metadata": {},
   "outputs": [],
   "source": [
    "with open('pdf_20.json', 'w') as fp:\n",
    "    json.dump(dic_2, fp)"
   ]
  },
  {
   "cell_type": "code",
   "execution_count": null,
   "id": "native-jungle",
   "metadata": {},
   "outputs": [],
   "source": []
  },
  {
   "cell_type": "code",
   "execution_count": null,
   "id": "ahead-fitness",
   "metadata": {},
   "outputs": [],
   "source": []
  }
 ],
 "metadata": {
  "kernelspec": {
   "display_name": "Python 3",
   "language": "python",
   "name": "python3"
  },
  "language_info": {
   "codemirror_mode": {
    "name": "ipython",
    "version": 3
   },
   "file_extension": ".py",
   "mimetype": "text/x-python",
   "name": "python",
   "nbconvert_exporter": "python",
   "pygments_lexer": "ipython3",
   "version": "3.7.9"
  }
 },
 "nbformat": 4,
 "nbformat_minor": 5
}
