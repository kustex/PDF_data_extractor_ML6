{
 "cells": [
  {
   "cell_type": "code",
   "execution_count": 1,
   "metadata": {},
   "outputs": [],
   "source": [
    "import re\n",
    "import pdfplumber\n",
    "import pandas as pd\n",
    "from collections import namedtuple"
   ]
  },
  {
   "cell_type": "code",
   "execution_count": 2,
   "metadata": {},
   "outputs": [],
   "source": [
    "Line = (namedtuple('Line', 'Main_title Keys Values'))"
   ]
  },
  {
   "cell_type": "code",
   "execution_count": 3,
   "metadata": {},
   "outputs": [],
   "source": [
    "main = re.compile(r'(\\d) (.*)')"
   ]
  },
  {
   "cell_type": "code",
   "execution_count": 4,
   "metadata": {},
   "outputs": [],
   "source": [
    "key_value = re.compile(r'(.*):[\\n|\\s](.*)')"
   ]
  },
  {
   "cell_type": "code",
   "execution_count": 7,
   "metadata": {},
   "outputs": [],
   "source": [
    "lines = []\n",
    "with pdfplumber.open('10N_Sodium_Hydroxide_NaOH_40_6_US_EN_sds (1).pdf') as pdf:\n",
    "    page = pdf.pages[0]\n",
    "    text = page.extract_text(x_tolerance=2, y_tolerance=1)\n",
    "    text=text.replace('· ', '').replace('*  ', '').split('\\n')\n",
    "    for line in text:\n",
    "        if main.search(line):\n",
    "            num, Main_title = main.search(line).group(1), main.search(line).group(2)\n",
    "        if key_value.search(line):\n",
    "            Keys,Values = key_value.search(line).group(1), key_value.search(line).group(2)\n",
    "            lines.append(Line(Main_title,Keys,Values))\n",
    "        "
   ]
  },
  {
   "cell_type": "code",
   "execution_count": 8,
   "metadata": {},
   "outputs": [
    {
     "data": {
      "text/plain": [
       "[' ',\n",
       " 'Page 1/11',\n",
       " 'Safety Data Sheet (SDS)',\n",
       " 'OSHA HazCom Standard 29 CFR 1910.1200(g) and GHS Rev 03.',\n",
       " 'Issue date 02/09/2017 Reviewed on 02/09/2017',\n",
       " '1 Identification',\n",
       " 'Product Identifier',\n",
       " 'Trade name: 10N Sodium Hydroxide (NaOH 40%)',\n",
       " 'Product Number: NGT-10N NaOH',\n",
       " 'Relevant identified uses of the substance or mixture and uses advised against:',\n",
       " 'No further relevant information available.',\n",
       " 'Product Description PC21   Laboratory chemicals',\n",
       " 'Application of the substance / the mixture: Laboratory chemicals',\n",
       " 'Details of the Supplier of the Safety Data Sheet:',\n",
       " 'Manufacturer/Supplier:',\n",
       " 'NuGeneration Technologies, LLC (dba NuGenTec)',\n",
       " '1155 Park Avenue, Emeryville, CA 94608',\n",
       " 'salesteam@nugentec.com www.nugentec.com',\n",
       " '1-888-996-8436 or 1-707-820-4080 for product information',\n",
       " 'Emergency telephone number:',\n",
       " 'PERS Emergency Response: Domestic and Canada - 1-800-633-8253, International 1-801-629-0667',\n",
       " '2 Hazard(s) Identification',\n",
       " 'Classification of the substance or mixture:',\n",
       " 'd~\\uf082',\n",
       " 'GHS05 Corrosion',\n",
       " 'Skin Corr. 1A H314 Causes severe skin burns and eye damage.',\n",
       " 'Eye Dam. 1 H318 Causes serious eye damage.',\n",
       " 'Label elements:',\n",
       " 'GHS label elements',\n",
       " 'The product is classified and labeled according to the Globally Harmonized System (GHS).',\n",
       " 'Hazard pictograms:',\n",
       " 'd~\\uf082',\n",
       " 'GHS05',\n",
       " 'Signal word: Danger',\n",
       " 'Hazard-determining components of labeling:',\n",
       " 'Sodium Hydroxide',\n",
       " 'Hazard statements:',\n",
       " 'H314 Causes severe skin burns and eye damage.',\n",
       " 'Precautionary statements:',\n",
       " 'P260 Do not breathe dusts or mists.',\n",
       " 'P280 Wear protective gloves/protective clothing/eye protection/face protection.',\n",
       " 'P264 Wash thoroughly after handling.',\n",
       " 'P303+P361+P353 If on skin (or hair): Take off immediately all contaminated clothing. Rinse skin with',\n",
       " 'water/shower.',\n",
       " 'P305+P351+P338 If in eyes: Rinse cautiously with water for several minutes. Remove contact lenses,',\n",
       " 'if present and easy to do. Continue rinsing.',\n",
       " '(Contd. on page 2)',\n",
       " ' US ',\n",
       " '44.2.1']"
      ]
     },
     "execution_count": 8,
     "metadata": {},
     "output_type": "execute_result"
    }
   ],
   "source": [
    "text"
   ]
  },
  {
   "cell_type": "code",
   "execution_count": 9,
   "metadata": {},
   "outputs": [
    {
     "data": {
      "text/plain": [
       "[Line(Main_title='Identification', Keys='Trade name', Values='10N Sodium Hydroxide (NaOH 40%)'),\n",
       " Line(Main_title='Identification', Keys='Product Number', Values='NGT-10N NaOH'),\n",
       " Line(Main_title='  Laboratory chemicals', Keys='Application of the substance / the mixture', Values='Laboratory chemicals'),\n",
       " Line(Main_title='or 1-707-820-4080 for product information', Keys='PERS Emergency Response', Values='Domestic and Canada - 1-800-633-8253, International 1-801-629-0667'),\n",
       " Line(Main_title='H318 Causes serious eye damage.', Keys='Signal word', Values='Danger'),\n",
       " Line(Main_title='If on skin (or hair): Take off immediately all contaminated clothing. Rinse skin with', Keys='P303+P361+P353 If on skin (or hair)', Values='Take off immediately all contaminated clothing. Rinse skin with'),\n",
       " Line(Main_title='If in eyes: Rinse cautiously with water for several minutes. Remove contact lenses,', Keys='P305+P351+P338 If in eyes', Values='Rinse cautiously with water for several minutes. Remove contact lenses,')]"
      ]
     },
     "execution_count": 9,
     "metadata": {},
     "output_type": "execute_result"
    }
   ],
   "source": [
    "lines"
   ]
  },
  {
   "cell_type": "code",
   "execution_count": 10,
   "metadata": {},
   "outputs": [],
   "source": [
    "df = pd.DataFrame(lines)"
   ]
  },
  {
   "cell_type": "code",
   "execution_count": 11,
   "metadata": {},
   "outputs": [
    {
     "data": {
      "text/html": [
       "<div>\n",
       "<style scoped>\n",
       "    .dataframe tbody tr th:only-of-type {\n",
       "        vertical-align: middle;\n",
       "    }\n",
       "\n",
       "    .dataframe tbody tr th {\n",
       "        vertical-align: top;\n",
       "    }\n",
       "\n",
       "    .dataframe thead th {\n",
       "        text-align: right;\n",
       "    }\n",
       "</style>\n",
       "<table border=\"1\" class=\"dataframe\">\n",
       "  <thead>\n",
       "    <tr style=\"text-align: right;\">\n",
       "      <th></th>\n",
       "      <th>Main_title</th>\n",
       "      <th>Keys</th>\n",
       "      <th>Values</th>\n",
       "    </tr>\n",
       "  </thead>\n",
       "  <tbody>\n",
       "    <tr>\n",
       "      <th>0</th>\n",
       "      <td>Identification</td>\n",
       "      <td>Trade name</td>\n",
       "      <td>10N Sodium Hydroxide (NaOH 40%)</td>\n",
       "    </tr>\n",
       "    <tr>\n",
       "      <th>1</th>\n",
       "      <td>Identification</td>\n",
       "      <td>Product Number</td>\n",
       "      <td>NGT-10N NaOH</td>\n",
       "    </tr>\n",
       "    <tr>\n",
       "      <th>2</th>\n",
       "      <td>Laboratory chemicals</td>\n",
       "      <td>Application of the substance / the mixture</td>\n",
       "      <td>Laboratory chemicals</td>\n",
       "    </tr>\n",
       "    <tr>\n",
       "      <th>3</th>\n",
       "      <td>or 1-707-820-4080 for product information</td>\n",
       "      <td>PERS Emergency Response</td>\n",
       "      <td>Domestic and Canada - 1-800-633-8253, Internat...</td>\n",
       "    </tr>\n",
       "    <tr>\n",
       "      <th>4</th>\n",
       "      <td>H318 Causes serious eye damage.</td>\n",
       "      <td>Signal word</td>\n",
       "      <td>Danger</td>\n",
       "    </tr>\n",
       "    <tr>\n",
       "      <th>5</th>\n",
       "      <td>If on skin (or hair): Take off immediately all...</td>\n",
       "      <td>P303+P361+P353 If on skin (or hair)</td>\n",
       "      <td>Take off immediately all contaminated clothing...</td>\n",
       "    </tr>\n",
       "    <tr>\n",
       "      <th>6</th>\n",
       "      <td>If in eyes: Rinse cautiously with water for se...</td>\n",
       "      <td>P305+P351+P338 If in eyes</td>\n",
       "      <td>Rinse cautiously with water for several minute...</td>\n",
       "    </tr>\n",
       "  </tbody>\n",
       "</table>\n",
       "</div>"
      ],
      "text/plain": [
       "                                          Main_title  \\\n",
       "0                                     Identification   \n",
       "1                                     Identification   \n",
       "2                               Laboratory chemicals   \n",
       "3          or 1-707-820-4080 for product information   \n",
       "4                    H318 Causes serious eye damage.   \n",
       "5  If on skin (or hair): Take off immediately all...   \n",
       "6  If in eyes: Rinse cautiously with water for se...   \n",
       "\n",
       "                                         Keys  \\\n",
       "0                                  Trade name   \n",
       "1                              Product Number   \n",
       "2  Application of the substance / the mixture   \n",
       "3                     PERS Emergency Response   \n",
       "4                                 Signal word   \n",
       "5         P303+P361+P353 If on skin (or hair)   \n",
       "6                   P305+P351+P338 If in eyes   \n",
       "\n",
       "                                              Values  \n",
       "0                    10N Sodium Hydroxide (NaOH 40%)  \n",
       "1                                       NGT-10N NaOH  \n",
       "2                               Laboratory chemicals  \n",
       "3  Domestic and Canada - 1-800-633-8253, Internat...  \n",
       "4                                             Danger  \n",
       "5  Take off immediately all contaminated clothing...  \n",
       "6  Rinse cautiously with water for several minute...  "
      ]
     },
     "execution_count": 11,
     "metadata": {},
     "output_type": "execute_result"
    }
   ],
   "source": [
    "df"
   ]
  },
  {
   "cell_type": "code",
   "execution_count": null,
   "metadata": {},
   "outputs": [],
   "source": []
  }
 ],
 "metadata": {
  "kernelspec": {
   "display_name": "Python 3",
   "language": "python",
   "name": "python3"
  },
  "language_info": {
   "codemirror_mode": {
    "name": "ipython",
    "version": 3
   },
   "file_extension": ".py",
   "mimetype": "text/x-python",
   "name": "python",
   "nbconvert_exporter": "python",
   "pygments_lexer": "ipython3",
   "version": "3.8.6"
  }
 },
 "nbformat": 4,
 "nbformat_minor": 4
}
