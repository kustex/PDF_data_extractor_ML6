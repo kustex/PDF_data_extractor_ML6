{
 "cells": [
  {
   "cell_type": "code",
   "execution_count": 6,
   "metadata": {},
   "outputs": [],
   "source": [
    "raw_text = \"header1 noise key1 value1 key2 value2 header2 noise key3 value3 key4 value4\"\n",
    "final_dict_disorganised = parse(raw_text)"
   ]
  },
  {
   "cell_type": "code",
   "execution_count": null,
   "metadata": {},
   "outputs": [],
   "source": [
    "final_dict_disorganised = {\"key1\": \"value1\", \"key2\": \"value2\", \"key3\": \"value3\", \"key4\": \"value4\"}"
   ]
  },
  {
   "cell_type": "code",
   "execution_count": null,
   "metadata": {},
   "outputs": [],
   "source": [
    "sections = extract_header_sections(raw_text)\n",
    "sections = [\"header1 noise key1 value1 key2 value2\", \"header2 noise key3 value3 key4 value4\"]\n",
    "for section in sections:\n",
    "    sub_dict = parse(section)\n",
    "    final_dict[section.partition(' ')[0]] = sub_dict\n",
    "\n",
    "final_dict = {\"header1\": {\"key1\": \"value1\", \"key2\": \"value2\"}, \"header2\": {\"key3\": \"value3\", \"key3\": \"value3\"}}"
   ]
  },
  {
   "cell_type": "code",
   "execution_count": null,
   "metadata": {},
   "outputs": [],
   "source": [
    "import json\n",
    "\n",
    "def parse(raw_text, company_name=\"default_company\", regex_file_path=\"default_path\"):\n",
    "    regex_dict = json.loads(regex_file_path)\n",
    "    regex_formula = regex_dict[\"company_name\"][\"regex_formula\"]...\n",
    "    parsed_dict = apply_regex_formula(raw_text, regex_formula)"
   ]
  }
 ],
 "metadata": {
  "kernelspec": {
   "display_name": "Python 3",
   "language": "python",
   "name": "python3"
  },
  "language_info": {
   "codemirror_mode": {
    "name": "ipython",
    "version": 3
   },
   "file_extension": ".py",
   "mimetype": "text/x-python",
   "name": "python",
   "nbconvert_exporter": "python",
   "pygments_lexer": "ipython3",
   "version": "3.8.5"
  }
 },
 "nbformat": 4,
 "nbformat_minor": 4
}
