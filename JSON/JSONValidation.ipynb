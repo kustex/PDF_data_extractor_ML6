{
 "cells": [
  {
   "cell_type": "markdown",
   "metadata": {},
   "source": [
    "## validate json\n",
    "\n",
    "This script will check if the JSON files have 16 keys (1 for each title)  \n",
    "\n",
    "This script checks if there are still false positives for the titles.  \n",
    "If there are the false positives will be deleted by checking if the value of that title is empty.  \n",
    "This means that it can only detect false positives if the false positive is just before a new true title.  \n",
    "This is the case with __pdf_18_Sledgehammer-Heat-Cure-Powder-SDS-US-20150522.pdf__  \n",
    "  \n",
    "Other conditions to detect false positive can be added here as well  \n"
   ]
  },
  {
   "cell_type": "code",
   "execution_count": 1,
   "metadata": {},
   "outputs": [],
   "source": [
    "import json\n",
    "import os"
   ]
  },
  {
   "cell_type": "code",
   "execution_count": 2,
   "metadata": {},
   "outputs": [],
   "source": [
    "def is_empty(s):\n",
    "    if not (s):\n",
    "        return True\n",
    "    else:\n",
    "        return False"
   ]
  },
  {
   "cell_type": "code",
   "execution_count": 3,
   "metadata": {},
   "outputs": [],
   "source": [
    "def validate_json(path):\n",
    "    json_file = open(path)\n",
    "    data = json.load(json_file)\n",
    "\n",
    "    if len(data.keys()) != 16:\n",
    "        true_dict = {k:v for k,v in data.items() if not (is_empty(v))}\n",
    "        with open(path, 'w') as fp:\n",
    "            json.dump(true_dict, fp)\n",
    "    \n",
    "        print(f'{path} now was {len(true_dict.keys())} keys')\n",
    "        print(f'{path} is now valid')\n",
    "    else:\n",
    "        print(f'{path} = VALID')\n",
    "    \n",
    "    "
   ]
  },
  {
   "cell_type": "code",
   "execution_count": 7,
   "metadata": {},
   "outputs": [
    {
     "name": "stdout",
     "output_type": "stream",
     "text": [
      "./json\\pdf_10_Hydrogen_Peroxide_35_7_US_EN_sds.pdf.json = VALID\n",
      "./json\\pdf_11_LC15750.pdf.json = VALID\n",
      "./json\\pdf_12_NN-dimethylformamide_3_US_EN_sds.pdf.json = VALID\n",
      "./json\\pdf_13_Omnirad-184.pdf.json = VALID\n",
      "./json\\pdf_14_PHTHALIC-ANHYDRIDE--ACS-5KG-pdf.pdf.json = VALID\n",
      "./json\\pdf_15_quilon_h-eu_msds__1594909058.pdf.json = VALID\n",
      "./json\\pdf_16_Savinyl-Orange-RLS.pdf.json = VALID\n",
      "./json\\pdf_17_SDS - Horizon Blue Clarifier.pdf.json = VALID\n",
      "./json\\pdf_18_Sledgehammer-Heat-Cure-Powder-SDS-US-20150522.pdf.json = VALID\n",
      "./json\\pdf_19_Trifluoroacetic_Acid_TFA_7_US_EN_sds.pdf.json = VALID\n",
      "./json\\pdf_1_10N_Sodium_Hydroxide_NaOH_40_6_US_EN_sds.pdf.json = VALID\n",
      "./json\\pdf_20_巴斯夫紫外线吸收剂-tinuvin-1130-msds宝旭化工.pdf.json = VALID\n",
      "./json\\pdf_2_1799516.pdf.json = VALID\n",
      "./json\\pdf_3_23114.pdf.json = VALID\n",
      "./json\\pdf_4_580076.pdf.json = VALID\n",
      "./json\\pdf_5_586346.pdf.json = VALID\n",
      "./json\\pdf_6_765-12-8_Sigma-Aldrich.pdf.json = VALID\n",
      "./json\\pdf_7_Carbowax Sentry PEG 400 NF - Dow - 2015-03-26.pdf.json = VALID\n",
      "./json\\pdf_8_Dubei Steriling Alcohol Wipes SDS.pdf.json = VALID\n",
      "./json\\pdf_9_gylcol-ether-dpm-sds.pdf.json = VALID\n"
     ]
    }
   ],
   "source": [
    "directory = './json'\n",
    "for i, filename in enumerate(os.listdir(directory)):\n",
    "        if filename.endswith(\".json\"):\n",
    "            filepath = os.path.join(directory, filename)\n",
    "            validate_json(filepath)"
   ]
  },
  {
   "cell_type": "code",
   "execution_count": null,
   "metadata": {},
   "outputs": [],
   "source": []
  }
 ],
 "metadata": {
  "kernelspec": {
   "display_name": "PyCharm (PDF_data_extractor_ML6)",
   "language": "python",
   "name": "pycharm-c51bac9"
  },
  "language_info": {
   "codemirror_mode": {
    "name": "ipython",
    "version": 3
   },
   "file_extension": ".py",
   "mimetype": "text/x-python",
   "name": "python",
   "nbconvert_exporter": "python",
   "pygments_lexer": "ipython3",
   "version": "3.9.1"
  }
 },
 "nbformat": 4,
 "nbformat_minor": 4
}
