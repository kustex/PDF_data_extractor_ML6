{
 "cells": [
  {
   "cell_type": "code",
   "execution_count": 1,
   "id": "rental-publicity",
   "metadata": {},
   "outputs": [],
   "source": [
    "# use natural language toolkit\n",
    "import nltk\n",
    "from nltk.stem.lancaster import LancasterStemmer\n",
    "import os\n",
    "import json\n",
    "import datetime\n",
    "stemmer = LancasterStemmer()"
   ]
  },
  {
   "cell_type": "code",
   "execution_count": null,
   "id": "fiscal-polyester",
   "metadata": {},
   "outputs": [],
   "source": [
    "# 3 classes of training data\n",
    "training_data = []\n",
    "\n",
    "if:\n",
    "    training_data.append({\"class\":\"title\", \"sentence\":\"how are you?\"})\n",
    "    training_data.append({\"class\":\"title\", \"sentence\":\"how is your day?\"})\n",
    "    training_data.append({\"class\":\"title\", \"sentence\":\"good day\"})\n",
    "    training_data.append({\"class\":\"title\", \"sentence\":\"how is it going today?\"})\n",
    "\n",
    "elif:\n",
    "    training_data.append({\"class\":\"key\", \"sentence\":\"have a nice day\"})\n",
    "    training_data.append({\"class\":\"key\", \"sentence\":\"see you later\"})\n",
    "    training_data.append({\"class\":\"key\", \"sentence\":\"have a nice day\"})\n",
    "    training_data.append({\"class\":\"key\", \"sentence\":\"talk to you soon\"})\n",
    "\n",
    "else:\n",
    "    training_data.append({\"class\":\"value\", \"sentence\":\"make me a sandwich\"})\n",
    "\n",
    "print (\"%s sentences in training data\" % len(training_data))"
   ]
  }
 ],
 "metadata": {
  "kernelspec": {
   "display_name": "Python 3",
   "language": "python",
   "name": "python3"
  },
  "language_info": {
   "codemirror_mode": {
    "name": "ipython",
    "version": 3
   },
   "file_extension": ".py",
   "mimetype": "text/x-python",
   "name": "python",
   "nbconvert_exporter": "python",
   "pygments_lexer": "ipython3",
   "version": "3.7.9"
  }
 },
 "nbformat": 4,
 "nbformat_minor": 5
}
