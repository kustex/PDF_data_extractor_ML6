{
 "cells": [
  {
   "cell_type": "code",
   "execution_count": 7,
   "id": "embedded-vinyl",
   "metadata": {},
   "outputs": [],
   "source": [
    "import pikepdf"
   ]
  },
  {
   "cell_type": "code",
   "execution_count": 8,
   "id": "french-shanghai",
   "metadata": {},
   "outputs": [],
   "source": [
    "pdf = pikepdf.Pdf.open('./data/10N_Sodium_Hydroxide_NaOH_40_6_US_EN_sds.pdf')"
   ]
  },
  {
   "cell_type": "code",
   "execution_count": 9,
   "id": "fixed-worship",
   "metadata": {},
   "outputs": [],
   "source": [
    "meta = pdf.open_metadata()"
   ]
  },
  {
   "cell_type": "code",
   "execution_count": 10,
   "id": "olive-yield",
   "metadata": {},
   "outputs": [
    {
     "data": {
      "text/plain": [
       "<pikepdf.models.metadata.PdfMetadata at 0x21e0c9a9c70>"
      ]
     },
     "execution_count": 10,
     "metadata": {},
     "output_type": "execute_result"
    }
   ],
   "source": [
    "meta"
   ]
  },
  {
   "cell_type": "code",
   "execution_count": 11,
   "id": "lucky-bottom",
   "metadata": {},
   "outputs": [],
   "source": [
    "with pdf.open_metadata() as meta:\n",
    "     meta['dc:title'] = \"Let's change the title\""
   ]
  },
  {
   "cell_type": "code",
   "execution_count": 12,
   "id": "indonesian-discovery",
   "metadata": {},
   "outputs": [
    {
     "data": {
      "text/plain": [
       "<pikepdf.models.metadata.PdfMetadata at 0x21e0d06baf0>"
      ]
     },
     "execution_count": 12,
     "metadata": {},
     "output_type": "execute_result"
    }
   ],
   "source": [
    "meta"
   ]
  },
  {
   "cell_type": "code",
   "execution_count": 14,
   "id": "shaped-watch",
   "metadata": {},
   "outputs": [
    {
     "data": {
      "text/plain": [
       "'PScript5.dll Version 5.2.2'"
      ]
     },
     "execution_count": 14,
     "metadata": {},
     "output_type": "execute_result"
    }
   ],
   "source": [
    "meta['xmp:CreatorTool']"
   ]
  },
  {
   "cell_type": "code",
   "execution_count": 15,
   "id": "adult-latex",
   "metadata": {},
   "outputs": [],
   "source": [
    "xmp = pdf.Root.Metadata.read_bytes()"
   ]
  },
  {
   "cell_type": "code",
   "execution_count": 16,
   "id": "objective-spoke",
   "metadata": {},
   "outputs": [
    {
     "name": "stdout",
     "output_type": "stream",
     "text": [
      "<?xpacket begin=\"﻿\" id=\"W5M0MpCehiHzreSzNTczkc9d\"?>\n",
      "<x:xmpmeta xmlns:x=\"adobe:ns:meta/\" x:xmptk=\"Adobe XMP Core 5.4-c006 80.159825, 2016/09/16-03:31:08        \">\n",
      "   <rdf:RDF xmlns:rdf=\"http://www.w3.org/1999/02/22-rdf-syntax-ns#\">\n",
      "      <rdf:Description xmlns:xmp=\"http://ns.adobe.com/xap/1.0/\" xmlns:dc=\"http://purl.org/dc/elements/1.1/\" xmlns:pdf=\"http://ns.adobe.com/pdf/1.3/\" xmlns:xmpMM=\"http://ns.adobe.com/xap/1.0/mm/\" rdf:about=\"\">\n",
      "         <xmp:CreatorTool>PScript5.dll Version 5.2.2</xmp:CreatorTool>\n",
      "         <xmp:ModifyDate>2017-02-09T12:54:23-08:00</xmp:ModifyDate>\n",
      "         <xmp:CreateDate>2017-02-09T12:54:23-08:00</xmp:CreateDate>\n",
      "         <dc:format>application/pdf</dc:format>\n",
      "         <dc:title>\n",
      "            <rdf:Alt><rdf:li xml:lang=\"x-default\">Let's change the title</rdf:li></rdf:Alt></dc:title>\n",
      "         <dc:creator>\n",
      "            <rdf:Seq>\n",
      "               <rdf:li>FlaviaBranwall</rdf:li>\n",
      "            </rdf:Seq>\n",
      "         </dc:creator>\n",
      "         <pdf:Producer>pikepdf 2.5.2</pdf:Producer>\n",
      "         <xmpMM:DocumentID>uuid:a8bc54d5-71db-4d15-818d-39ca448a89eb</xmpMM:DocumentID>\n",
      "         <xmpMM:InstanceID>uuid:4460d98b-3f73-42ff-bf79-65f1ea0e5c50</xmpMM:InstanceID>\n",
      "      </rdf:Description>\n",
      "   <rdf:Description xmlns:xmp=\"http://ns.adobe.com/xap/1.0/\" rdf:about=\"\" xmp:MetadataDate=\"2021-02-22T15:10:22.557145+01:00\"/></rdf:RDF>\n",
      "</x:xmpmeta>\n",
      "\n",
      "<?xpacket end=\"w\"?>\n",
      "\n"
     ]
    }
   ],
   "source": [
    "print(xmp.decode())"
   ]
  },
  {
   "cell_type": "code",
   "execution_count": 17,
   "id": "everyday-warehouse",
   "metadata": {},
   "outputs": [
    {
     "data": {
      "text/plain": [
       "pikepdf.Dictionary({\n",
       "  \"/Author\": \"FlaviaBranwall\",\n",
       "  \"/CreationDate\": \"D:20170209125423-08'00'\",\n",
       "  \"/Creator\": \"PScript5.dll Version 5.2.2\",\n",
       "  \"/ModDate\": \"D:20170209125423-08'00'\",\n",
       "  \"/Producer\": \"pikepdf 2.5.2\",\n",
       "  \"/Title\": \"Let's change the title\"\n",
       "})"
      ]
     },
     "execution_count": 17,
     "metadata": {},
     "output_type": "execute_result"
    }
   ],
   "source": [
    "pdf.docinfo"
   ]
  },
  {
   "cell_type": "code",
   "execution_count": 18,
   "id": "infrared-palestinian",
   "metadata": {},
   "outputs": [
    {
     "ename": "TypeError",
     "evalue": "read_raw_bytes(): incompatible function arguments. The following argument types are supported:\n    1. (self: pikepdf._qpdf.Object) -> bytes\n\nInvoked with: ",
     "output_type": "error",
     "traceback": [
      "\u001b[1;31m---------------------------------------------------------------------------\u001b[0m",
      "\u001b[1;31mTypeError\u001b[0m                                 Traceback (most recent call last)",
      "\u001b[1;32m<ipython-input-18-58263429d2a8>\u001b[0m in \u001b[0;36m<module>\u001b[1;34m\u001b[0m\n\u001b[1;32m----> 1\u001b[1;33m \u001b[0mpikepdf\u001b[0m\u001b[1;33m.\u001b[0m\u001b[0mStream\u001b[0m\u001b[1;33m.\u001b[0m\u001b[0mread_raw_bytes\u001b[0m\u001b[1;33m(\u001b[0m\u001b[1;33m)\u001b[0m\u001b[1;33m\u001b[0m\u001b[1;33m\u001b[0m\u001b[0m\n\u001b[0m",
      "\u001b[1;31mTypeError\u001b[0m: read_raw_bytes(): incompatible function arguments. The following argument types are supported:\n    1. (self: pikepdf._qpdf.Object) -> bytes\n\nInvoked with: "
     ]
    }
   ],
   "source": []
  },
  {
   "cell_type": "code",
   "execution_count": null,
   "id": "popular-sperm",
   "metadata": {},
   "outputs": [],
   "source": []
  }
 ],
 "metadata": {
  "kernelspec": {
   "display_name": "dl",
   "language": "python",
   "name": "dl"
  },
  "language_info": {
   "codemirror_mode": {
    "name": "ipython",
    "version": 3
   },
   "file_extension": ".py",
   "mimetype": "text/x-python",
   "name": "python",
   "nbconvert_exporter": "python",
   "pygments_lexer": "ipython3",
   "version": "3.8.5"
  }
 },
 "nbformat": 4,
 "nbformat_minor": 5
}
