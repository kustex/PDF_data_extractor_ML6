{
 "cells": [
  {
   "cell_type": "code",
   "execution_count": 1,
   "id": "acoustic-witness",
   "metadata": {},
   "outputs": [],
   "source": [
    "# use natural language toolkit\n",
    "import nltk\n",
    "from nltk.stem.lancaster import LancasterStemmer\n",
    "import os\n",
    "import json\n",
    "import datetime\n",
    "stemmer = LancasterStemmer()"
   ]
  },
  {
   "cell_type": "code",
   "execution_count": null,
   "id": "plain-washington",
   "metadata": {},
   "outputs": [],
   "source": [
    "# 3 classes of training data\n",
    "training_data = []\n",
    "\n",
    "training_data.append({\"class\":\"title\", \"sentence\":\"identification\"})\n",
    "training_data.append({\"class\":\"title\", \"sentence\":\"hazard(s) identification\"})\n",
    "training_data.append({\"class\":\"title\", \"sentence\":\"composition/information on ingredients\"})\n",
    "training_data.append({\"class\":\"title\", \"sentence\":\"first-aid measures\"})\n",
    "training_data.append({\"class\":\"title\", \"sentence\":\"fire-fighting measures\"})\n",
    "training_data.append({\"class\":\"title\", \"sentence\":\"accidental release measures\"})\n",
    "training_data.append({\"class\":\"title\", \"sentence\":\"handling and storage\"})\n",
    "training_data.append({\"class\":\"title\", \"sentence\":\"exposure controls/personal protection\"})\n",
    "training_data.append({\"class\":\"title\", \"sentence\":\"physical and chemical properties\"})\n",
    "training_data.append({\"class\":\"title\", \"sentence\":\"stability and reactivity\"})\n",
    "training_data.append({\"class\":\"title\", \"sentence\":\"toxicological information\"})\n",
    "training_data.append({\"class\":\"title\", \"sentence\":\"ecological information\"})\n",
    "training_data.append({\"class\":\"title\", \"sentence\":\"disposal considerations\"})\n",
    "training_data.append({\"class\":\"title\", \"sentence\":\"transport information\"})\n",
    "training_data.append({\"class\":\"title\", \"sentence\":\"regulatory information\"})\n",
    "training_data.append({\"class\":\"title\", \"sentence\":\"other information\"})\n",
    "\n",
    "training_data.append({\"class\":\"key\", \"sentence\":\"trade name\"})\n",
    "training_data.append({\"class\":\"key\", \"sentence\":\"see you later\"})\n",
    "training_data.append({\"class\":\"key\", \"sentence\":\"have a nice day\"})\n",
    "training_data.append({\"class\":\"key\", \"sentence\":\"talk to you soon\"})\n",
    "\n",
    "    \n",
    "print (\"%s sentences in training data\" % len(training_data))"
   ]
  },
  {
   "cell_type": "code",
   "execution_count": 2,
   "id": "celtic-price",
   "metadata": {},
   "outputs": [
    {
     "ename": "SyntaxError",
     "evalue": "invalid syntax (<ipython-input-2-ea974adfbc1b>, line 1)",
     "output_type": "error",
     "traceback": [
      "\u001b[0;36m  File \u001b[0;32m\"<ipython-input-2-ea974adfbc1b>\"\u001b[0;36m, line \u001b[0;32m1\u001b[0m\n\u001b[0;31m    trade name: 10n sodium hydroxide (naoh 40%)\u001b[0m\n\u001b[0m             ^\u001b[0m\n\u001b[0;31mSyntaxError\u001b[0m\u001b[0;31m:\u001b[0m invalid syntax\n"
     ]
    }
   ],
   "source": [
    "trade name: 10n sodium hydroxide (naoh 40%)\n",
    "product number: ngt-10n naoh\n"
   ]
  },
  {
   "cell_type": "code",
   "execution_count": null,
   "id": "american-computer",
   "metadata": {},
   "outputs": [],
   "source": []
  }
 ],
 "metadata": {
  "kernelspec": {
   "display_name": "Python 3",
   "language": "python",
   "name": "python3"
  },
  "language_info": {
   "codemirror_mode": {
    "name": "ipython",
    "version": 3
   },
   "file_extension": ".py",
   "mimetype": "text/x-python",
   "name": "python",
   "nbconvert_exporter": "python",
   "pygments_lexer": "ipython3",
   "version": "3.7.9"
  }
 },
 "nbformat": 4,
 "nbformat_minor": 5
}
